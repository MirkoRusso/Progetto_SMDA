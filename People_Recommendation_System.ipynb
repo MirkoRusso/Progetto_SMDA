{
 "cells": [
  {
   "cell_type": "markdown",
   "metadata": {},
   "source": [
    "<div style=\"display: flex; align-items: center;\">\n",
    "    <img src=\"static/logo_rs.png\" width=\"120\" height=\"120\">\n",
    "    <h1> Progetto SMDA - User interest Recommendation System </h1>\n",
    "</div>\n",
    "\n",
    "<p>\n",
    "    Questo sistema di raccomandazione è frutto delle conoscenze acquisite al corso di Social Media Data Analisys AA 2023-2024. Si pone come obiettivo quello di \"Raccomandare\" persone simili tra loro in base ai dati presi in esame.\n",
    "</p>\n",
    "\n",
    "<h2>Indice</h2>\n",
    "<ol>\n",
    "    <li><a href=\"#teoria\">Teoria</a>\n",
    "    <li><a href=\"#introduzione\">Introduzione ai dati</a>\n",
    "    <li><a href=\"#analisi\">Analisi dei dati</a>\n",
    "    <li><a href=\"#sistema\">Sistema di raccomandazione</a>\n",
    "    <li><a href=\"#risultati\">Risultati</a>\n",
    "    <li><a href=\"#conclusione\">Conclusione</a>\n",
    "</ol>"
   ]
  },
  {
   "cell_type": "markdown",
   "metadata": {},
   "source": []
  },
  {
   "cell_type": "markdown",
   "metadata": {},
   "source": [
    "<section id=\"teoria\">\n",
    "    <h1>1. Teoria</h1>\n",
    "</section>"
   ]
  },
  {
   "cell_type": "markdown",
   "metadata": {},
   "source": [
    "<section id=\"introduzione\">\n",
    "    <h1>2. Introduzione ai dati</h1>\n",
    "</section>"
   ]
  },
  {
   "cell_type": "markdown",
   "metadata": {},
   "source": [
    "<p>\n",
    "I dati utilizzati per questo sistema sono stati ottenuti da un dataset esistente acquisito da Kaggle. I dati sono stati precedentemente puliti e organizzati secondo le necessità del progetto. Il dataset originale conteneva valori di analisi effettuati dagli aiutori, che sono stati rimossi poiché non inerenti al lavoro svolto in questo progetto.\n",
    "</p>\n",
    "<p>\n",
    "Il sistema di raccomandazione che segue è un sistema Collaborative Filtering di tipo User-User.\n",
    "</p>\n",
    "<p>\n",
    "Il dataset contiene le seguenti colonne:\n",
    "<ul>\n",
    "    <li><b>Gender</b>: Genere dell' utente: Uomo (0) - Donna (1)</li>\n",
    "    <li><b>Age</b>: Età dell'utente<//li>\n",
    "    <li><b>Field</b>: Campo professionale</li>\n",
    "    <li><b>From</b>: Provenienza</li>\n",
    "    <li><b>Income</b>: Reddito</li>\n",
    "    <li><b>Career</b>: Occupazione lavorativa</li>\n",
    "</ul>\n",
    "<p>\n",
    "I seguenti campi riguardano le valutazioni in scala da 0 a 10 date dagli utenti su l'importanza di alcune caratteristiche di un possibile partner\n",
    "</p>\n",
    "<ul>\n",
    "    <li><b>Attr</b>: Importanza Attrattività</li>              \n",
    "    <li><b>Sinc</b>: Importanza Sincerità </li>\n",
    "    <li><b>Intel</b>: Importanza Intelligenza</li>\n",
    "    <li><b>Fun</b>: Importanza Simpatia</li>\n",
    "    <li><b>Amb</b>: Importanza Ambizione</li>\n",
    "    <li><b>Shar</b>: Importanza Condivisione degli stessi interessi</li>\n",
    "</ul>\n",
    "<p>\n",
    "I seguenti campi invece riguardano gli interessi in alcuni ambiti da parte degli utenti, anche questi valutati da una scala di importanza che va da 0 a 10\n",
    "</p>\n",
    "<ul>\n",
    "    <li><b>Sports</b>: Quanto è importante praticare sport? </li>\n",
    "    <li><b>Exercise</b>: Quanto ti piace fare esercizio fisico?</li>\n",
    "    <li><b>Dining</b>: Quanto ti piace cenare fuori?</li>\n",
    "    <li><b>Museums</b>: Quanto ti piace partecipare a mostre o eventi?</li>\n",
    "    <li><b>Art</b>: Quanto ti piace l'arte?</li>\n",
    "    <li><b>Hiking</b>: Quanto è importante fare Hiking?</li>\n",
    "    <li><b>Gaming</b>: Quanto ti piacciono i videogiochi?</li>\n",
    "    <li><b>Clubbing</b>: Quanto ti piace andare a ballare in discoteca?</li>\n",
    "    <li><b>Reading</b>: Quanto ti piace leggere?</li>\n",
    "    <li><b>Tv</b>: Quanto ti piace guardare la tv?</li>\n",
    "    <li><b>Theater</b>: Quanto ti piace andare al cinema</li>\n",
    "    <li><b>Movies</b>: Quanto ti piace guardare film?</li>\n",
    "    <li><b>Concerts</b>: Quanto ti piace andare ai concerti?</li>\n",
    "    <li><b>Music</b>: Quanto ti piace la musica?</li>\n",
    "    <li><b>Shopping</b>:Quanto ti piace andare a fare shopping?</li>\n",
    "    <li><b>Yoga</b>: Quanto ti piace fare Yoga?</li>\n",
    "</ul>\n",
    "</p>"
   ]
  },
  {
   "cell_type": "code",
   "execution_count": 31,
   "metadata": {},
   "outputs": [
    {
     "name": "stdout",
     "output_type": "stream",
     "text": [
      "INFORMAZIONI SUL DATASET\n",
      "-----------------------------------------\n",
      "<class 'pandas.core.frame.DataFrame'>\n",
      "RangeIndex: 8378 entries, 0 to 8377\n",
      "Data columns (total 28 columns):\n",
      " #   Column    Non-Null Count  Dtype  \n",
      "---  ------    --------------  -----  \n",
      " 0   gender    8378 non-null   int64  \n",
      " 1   age       8283 non-null   float64\n",
      " 2   field     8315 non-null   object \n",
      " 3   from      8299 non-null   object \n",
      " 4   income    4279 non-null   object \n",
      " 5   career    8289 non-null   object \n",
      " 6   attr      8176 non-null   float64\n",
      " 7   sinc      8101 non-null   float64\n",
      " 8   intel     8082 non-null   float64\n",
      " 9   fun       8028 non-null   float64\n",
      " 10  amb       7666 non-null   float64\n",
      " 11  shar      7311 non-null   float64\n",
      " 12  sports    8299 non-null   float64\n",
      " 13  exercise  8299 non-null   float64\n",
      " 14  dining    8299 non-null   float64\n",
      " 15  museums   8299 non-null   float64\n",
      " 16  art       8299 non-null   float64\n",
      " 17  hiking    8299 non-null   float64\n",
      " 18  gaming    8299 non-null   float64\n",
      " 19  clubbing  8299 non-null   float64\n",
      " 20  reading   8299 non-null   float64\n",
      " 21  tv        8299 non-null   float64\n",
      " 22  theater   8299 non-null   float64\n",
      " 23  movies    8299 non-null   float64\n",
      " 24  concerts  8299 non-null   float64\n",
      " 25  music     8299 non-null   float64\n",
      " 26  shopping  8299 non-null   float64\n",
      " 27  yoga      8299 non-null   float64\n",
      "dtypes: float64(23), int64(1), object(4)\n",
      "memory usage: 1.8+ MB\n",
      "-----------------------------------------\n"
     ]
    }
   ],
   "source": [
    "import pandas as pd\n",
    "\n",
    "#caricamento del dataset\n",
    "path = 'datasets/data.csv'\n",
    "data = pd.read_csv(path)\n",
    "\n",
    "print(\"INFORMAZIONI SUL DATASET\")\n",
    "print(\"-----------------------------------------\")\n",
    "data_info = data.info()\n",
    "print(\"-----------------------------------------\")"
   ]
  },
  {
   "cell_type": "markdown",
   "metadata": {},
   "source": [
    "<section id=\"analisi\">\n",
    "    <h1>3. Analisi dei dati</h1>\n",
    "</section>"
   ]
  },
  {
   "cell_type": "markdown",
   "metadata": {},
   "source": [
    "## Preprocessing dei dati\n",
    "\n",
    "Diamo un'occhiata ai dati mancanti all'interno del dataset"
   ]
  },
  {
   "cell_type": "code",
   "execution_count": 32,
   "metadata": {},
   "outputs": [
    {
     "name": "stdout",
     "output_type": "stream",
     "text": [
      "        Missing Values  Percentage\n",
      "income            4099   48.925758\n",
      "shar              1067   12.735736\n",
      "amb                712    8.498448\n",
      "fun                350    4.177608\n",
      "intel              296    3.533063\n",
      "sinc               277    3.306278\n",
      "attr               202    2.411077\n",
      "age                 95    1.133922\n",
      "career              89    1.062306\n",
      "movies              79    0.942946\n"
     ]
    }
   ],
   "source": [
    "#Calcolo dei valori mancanti per ogni colonna\n",
    "missing_values_count = data.isnull().sum()\n",
    "\n",
    "#Calcolo della percentuale dei valori mancanti\n",
    "missing_percentage = (missing_values_count / len(data)) * 100\n",
    "\n",
    "#Dataframe di visualizzazione dei risultati\n",
    "missing_data = pd.DataFrame({\n",
    "    'Missing Values': missing_values_count,\n",
    "    'Percentage' : missing_percentage\n",
    "}).sort_values(by='Missing Values', ascending=False)\n",
    "\n",
    "print(missing_data.head(10))"
   ]
  },
  {
   "cell_type": "markdown",
   "metadata": {},
   "source": [
    "Considerando i primi tre risultati, quindi quelli riguardanti: Il reddito, l'importanza della condivisione degli interessi e l'importanza dell'ambizione, proseguirò nel seguente modo:\n",
    "\n",
    "La colonna rigurdante il reddito verrà rimossa, poiché non è molto rilevante ai fini del sistema. Per le colonne 'shar' e 'amb' insime alle restanti colonne, invece, andremo ad imputare la media dei valori di ogni colonna."
   ]
  },
  {
   "cell_type": "code",
   "execution_count": 33,
   "metadata": {},
   "outputs": [],
   "source": [
    "#Rimozione colonne 'income' e 'from'\n",
    "data.drop(columns=['income', 'from'], inplace=True)\n",
    "\n",
    "#Salvataggio in un nuovo file\n",
    "data.to_csv('datasets/cleaned_data.csv', index=False)"
   ]
  },
  {
   "cell_type": "code",
   "execution_count": 38,
   "metadata": {},
   "outputs": [
    {
     "name": "stdout",
     "output_type": "stream",
     "text": [
      "   gender   age field  career  attr  sinc  intel  fun  amb  shar  ...  gaming  \\\n",
      "0       0  21.0   Law  lawyer   6.0   9.0    7.0  7.0  6.0   5.0  ...     1.0   \n",
      "1       0  21.0   Law  lawyer   7.0   8.0    7.0  8.0  5.0   6.0  ...     1.0   \n",
      "2       0  21.0   Law  lawyer   5.0   8.0    9.0  8.0  5.0   7.0  ...     1.0   \n",
      "3       0  21.0   Law  lawyer   7.0   6.0    8.0  7.0  6.0   8.0  ...     1.0   \n",
      "4       0  21.0   Law  lawyer   5.0   6.0    7.0  7.0  6.0   6.0  ...     1.0   \n",
      "\n",
      "   clubbing  reading   tv  theater  movies  concerts  music  shopping  yoga  \n",
      "0       5.0      6.0  9.0      1.0    10.0      10.0    9.0       8.0   1.0  \n",
      "1       5.0      6.0  9.0      1.0    10.0      10.0    9.0       8.0   1.0  \n",
      "2       5.0      6.0  9.0      1.0    10.0      10.0    9.0       8.0   1.0  \n",
      "3       5.0      6.0  9.0      1.0    10.0      10.0    9.0       8.0   1.0  \n",
      "4       5.0      6.0  9.0      1.0    10.0      10.0    9.0       8.0   1.0  \n",
      "\n",
      "[5 rows x 26 columns]\n"
     ]
    }
   ],
   "source": [
    "cleaned_data = pd.read_csv('datasets/cleaned_data.csv')\n",
    "'''\n",
    "Abbiamo sia colonne numeriche che colonne testuali,\n",
    "dobbiamo calcolare la media solo di quelle numeriche, ovviamente\n",
    "'''\n",
    "\n",
    "#Assegnazione delle sole colonne con valori numerici\n",
    "numeric_cols = cleaned_data.select_dtypes(include=['number']).columns\n",
    "\n",
    "#Calcolo della media e imputazione\n",
    "cleaned_data[numeric_cols] = cleaned_data[numeric_cols].fillna(cleaned_data[numeric_cols].mean().round())\n",
    "\n",
    "cleaned_data.to_csv('datasets/cleaned_data.csv', index=False)\n",
    "\n",
    "print(cleaned_data.head())"
   ]
  },
  {
   "cell_type": "markdown",
   "metadata": {},
   "source": [
    "### Controllo dei dati mancanti sul nuovo dataset"
   ]
  },
  {
   "cell_type": "code",
   "execution_count": 35,
   "metadata": {},
   "outputs": [
    {
     "name": "stdout",
     "output_type": "stream",
     "text": [
      "          Missing Values  Percentage\n",
      "career                89    1.062306\n",
      "field                 63    0.751969\n",
      "gender                 0    0.000000\n",
      "art                    0    0.000000\n",
      "shopping               0    0.000000\n",
      "music                  0    0.000000\n",
      "concerts               0    0.000000\n",
      "movies                 0    0.000000\n",
      "theater                0    0.000000\n",
      "tv                     0    0.000000\n"
     ]
    }
   ],
   "source": [
    "#Calcolo dei valori mancanti per ogni colonna\n",
    "missing_values_count = cleaned_data.isnull().sum()\n",
    "\n",
    "#Calcolo della percentuale dei valori mancanti\n",
    "missing_percentage = (missing_values_count / len(cleaned_data)) * 100\n",
    "\n",
    "#Dataframe di visualizzazione dei risultati\n",
    "missing_data = pd.DataFrame({\n",
    "    'Missing Values': missing_values_count,\n",
    "    'Percentage' : missing_percentage\n",
    "}).sort_values(by='Missing Values', ascending=False)\n",
    "\n",
    "print(missing_data.head(10))"
   ]
  },
  {
   "cell_type": "markdown",
   "metadata": {},
   "source": [
    "I dati mancanti non sono più un problema."
   ]
  },
  {
   "cell_type": "markdown",
   "metadata": {},
   "source": [
    "### Normalizzazione dei valori\n",
    "\n",
    "Al fine di migliorare la qualità dei dati procederemo ad una normalizzazione dei valori che vanno da 0 a 10.    \n",
    "Non normalizzeremo l'eta per ragioni relative alla legibbilità dei dati, e perché non reputo importante normalizzarla"
   ]
  },
  {
   "cell_type": "code",
   "execution_count": 43,
   "metadata": {},
   "outputs": [],
   "source": [
    "from sklearn.preprocessing import MinMaxScaler\n",
    "\n",
    "#esclusione delle colonne age e gender\n",
    "columns_to_normalize = cleaned_data.select_dtypes(include=['number']).columns.drop(['age', 'gender'])\n",
    "\n",
    "\n",
    "scaler = MinMaxScaler()\n",
    "\n",
    "cleaned_data[columns_to_normalize] = scaler.fit_transform(cleaned_data[columns_to_normalize])\n",
    "\n",
    "cleaned_data.to_csv('datasets/normalized_data.csv', index=False)"
   ]
  },
  {
   "cell_type": "code",
   "execution_count": null,
   "metadata": {},
   "outputs": [],
   "source": []
  },
  {
   "cell_type": "code",
   "execution_count": null,
   "metadata": {},
   "outputs": [],
   "source": []
  },
  {
   "cell_type": "markdown",
   "metadata": {},
   "source": [
    "<section id=\"sistema\">\n",
    "    <h1>4. Sistema di raccomandazione</h1>\n",
    "</section>"
   ]
  },
  {
   "cell_type": "markdown",
   "metadata": {},
   "source": [
    "<section id=\"risultati\">\n",
    "    <h1>5. Risultati</h1>\n",
    "</section>"
   ]
  },
  {
   "cell_type": "markdown",
   "metadata": {},
   "source": [
    "<section id=\"conclusione\">\n",
    "    <h1>6. Conclusione</h1>\n",
    "</section>"
   ]
  },
  {
   "cell_type": "markdown",
   "metadata": {},
   "source": []
  }
 ],
 "metadata": {
  "kernelspec": {
   "display_name": "venv",
   "language": "python",
   "name": "python3"
  },
  "language_info": {
   "codemirror_mode": {
    "name": "ipython",
    "version": 3
   },
   "file_extension": ".py",
   "mimetype": "text/x-python",
   "name": "python",
   "nbconvert_exporter": "python",
   "pygments_lexer": "ipython3",
   "version": "3.12.4"
  }
 },
 "nbformat": 4,
 "nbformat_minor": 2
}
