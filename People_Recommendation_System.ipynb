{
 "cells": [
  {
   "cell_type": "markdown",
   "metadata": {},
   "source": [
    "<div style=\"display: flex; align-items: center;\">\n",
    "    <img src=\"static/logo_rs.png\" width=\"120\" height=\"120\">\n",
    "    <h1> Progetto SMDA - User interest Recommendation System </h1>\n",
    "</div>\n",
    "\n",
    "<p>\n",
    "    Descrizione ... \n",
    "</p>\n",
    "\n",
    "<h2>Indice</h2>\n",
    "<ol>\n",
    "    <li><a href=\"#teoria\">Teoria</a></li>\n",
    "    <li><a href=\"#introduzione\">Introduzione</a></li>\n",
    "    <li><a href=\"#dati\">Dati</a></li>\n",
    "    <li><a href=\"#metodo-proposto\">Metodo proposto</a></li>\n",
    "    <li><a href=\"#risultati\">Risultati</a></li>\n",
    "    <li><a href=\"#conclusione\">Conclusione</a></li>\n",
    "</ol>"
   ]
  },
  {
   "cell_type": "markdown",
   "metadata": {},
   "source": []
  }
 ],
 "metadata": {
  "language_info": {
   "name": "python"
  }
 },
 "nbformat": 4,
 "nbformat_minor": 2
}
